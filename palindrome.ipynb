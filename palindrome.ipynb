{
 "cells": [
  {
   "cell_type": "code",
   "execution_count": 8,
   "metadata": {},
   "outputs": [],
   "source": [
    "def pal(n):\n",
    "    num=n%10\n",
    "    nn=n//10\n",
   //update
    
    "    while nn>0:\n",
    "        num*=10\n",
    "        num+=nn%10\n",
    "    return num==n\n",
    "    \n",
    "def largePalinfrome(n):\n",
    "    val=0\n",
    "    i=10**n-1\n",
    "    j=i\n",
    "    while n>=10**(n-1) and i*(10**n-1)>val:\n",
    "        \n",
    "        j=10**n-1\n",
    "    while j>=10**(n-1) and i*j>val:\n",
    "        if pal(i*j):\n",
    "            val=i*j\n",
    "            val=i*j\n",
    "            j-=1\n",
    "            i-=1\n",
    "            return val"
   ]
  },
  {
   "cell_type": "code",
   "execution_count": 7,
   "metadata": {},
   "outputs": [
    {
     "data": {
      "text/plain": [
       "False"
      ]
     },
     "execution_count": 7,
     "metadata": {},
     "output_type": "execute_result"
    }
   ],
   "source": [
    "pal(90019)"
   ]
  },
  {
   "cell_type": "code",
   "execution_count": null,
   "metadata": {},
   "outputs": [],
   "source": []
  },
  {
   "cell_type": "code",
   "execution_count": null,
   "metadata": {},
   "outputs": [],
   "source": []
  }
 ],
 "metadata": {
  "kernelspec": {
   "display_name": "Python 3",
   "language": "python",
   "name": "python3"
  },
  "language_info": {
   "codemirror_mode": {
    "name": "ipython",
    "version": 3
   },
   "file_extension": ".py",
   "mimetype": "text/x-python",
   "name": "python",
   "nbconvert_exporter": "python",
   "pygments_lexer": "ipython3",
   "version": "3.7.3"
  }
 },
 "nbformat": 4,
 "nbformat_minor": 2
}
